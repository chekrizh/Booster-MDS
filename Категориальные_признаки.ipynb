{
  "nbformat": 4,
  "nbformat_minor": 0,
  "metadata": {
    "colab": {
      "name": "Категориальные признаки.ipynb",
      "version": "0.3.2",
      "provenance": [],
      "collapsed_sections": []
    },
    "kernelspec": {
      "name": "python3",
      "display_name": "Python 3"
    }
  },
  "cells": [
    {
      "cell_type": "markdown",
      "metadata": {
        "id": "NQDd7F3_nw4b",
        "colab_type": "text"
      },
      "source": [
        "# Обзор популярных методов обработки категориальных признаков\n",
        "\n",
        "Текщая работа выполнена в рамках образовательного проекта \"**Booster MDS**\""
      ]
    },
    {
      "cell_type": "markdown",
      "metadata": {
        "id": "QKJATDyeqSdM",
        "colab_type": "text"
      },
      "source": [
        "Формальным определением категориального признака можно считать утверждение, согластно которому под этим понятием подразумеваются все сущности описывающие объект и  не входящие в множество вещественных чисел. Бинарные признаки могут быть расценены в качестве частного случая категориальных, тем не менее корректность такой позиции является вопросом семантики и общеприянтой практикой является интерпретация таковых как отдельного типа признаков.     \n",
        "Некоторые из методов машинного обучения являются чуствительными к характеру и типу представления признаков, описывающих обекты, а многие из них не умеют работать с категориальными признаками в виду своей сущности, предполагающую оперирование сугубо вещественными величинами.  \n",
        "В рамках текущей работы я рассмотрю некоторые из способов обработки таких признаков и представления данных в необходимой форме."
      ]
    },
    {
      "cell_type": "code",
      "metadata": {
        "id": "bJmMCdIpuSMc",
        "colab_type": "code",
        "colab": {
          "base_uri": "https://localhost:8080/",
          "height": 204
        },
        "outputId": "79ebdb48-8ae1-4f34-c187-cbf4e751d06f"
      },
      "source": [
        "import pandas as pd\n",
        "import random\n",
        "\n",
        "# В качесте примера будем использовать следующую серию, содержащую набор основных стихий\n",
        "elements = ['Air', 'Fire', 'Water', 'Earth', 'DataScience']\n",
        "df = pd.DataFrame({'cat': [elements[random.randint(0,4)] for _ in range(20)]})\n",
        "df.head()"
      ],
      "execution_count": 6,
      "outputs": [
        {
          "output_type": "execute_result",
          "data": {
            "text/html": [
              "<div>\n",
              "<style scoped>\n",
              "    .dataframe tbody tr th:only-of-type {\n",
              "        vertical-align: middle;\n",
              "    }\n",
              "\n",
              "    .dataframe tbody tr th {\n",
              "        vertical-align: top;\n",
              "    }\n",
              "\n",
              "    .dataframe thead th {\n",
              "        text-align: right;\n",
              "    }\n",
              "</style>\n",
              "<table border=\"1\" class=\"dataframe\">\n",
              "  <thead>\n",
              "    <tr style=\"text-align: right;\">\n",
              "      <th></th>\n",
              "      <th>cat</th>\n",
              "    </tr>\n",
              "  </thead>\n",
              "  <tbody>\n",
              "    <tr>\n",
              "      <th>0</th>\n",
              "      <td>Water</td>\n",
              "    </tr>\n",
              "    <tr>\n",
              "      <th>1</th>\n",
              "      <td>Water</td>\n",
              "    </tr>\n",
              "    <tr>\n",
              "      <th>2</th>\n",
              "      <td>Earth</td>\n",
              "    </tr>\n",
              "    <tr>\n",
              "      <th>3</th>\n",
              "      <td>DataScience</td>\n",
              "    </tr>\n",
              "    <tr>\n",
              "      <th>4</th>\n",
              "      <td>Air</td>\n",
              "    </tr>\n",
              "  </tbody>\n",
              "</table>\n",
              "</div>"
            ],
            "text/plain": [
              "           cat\n",
              "0        Water\n",
              "1        Water\n",
              "2        Earth\n",
              "3  DataScience\n",
              "4          Air"
            ]
          },
          "metadata": {
            "tags": []
          },
          "execution_count": 6
        }
      ]
    },
    {
      "cell_type": "markdown",
      "metadata": {
        "id": "-kNqC7oJuIOk",
        "colab_type": "text"
      },
      "source": [
        "## Проецирование на числовую прямую (Label Encoder )"
      ]
    },
    {
      "cell_type": "markdown",
      "metadata": {
        "id": "fSFd-VwPyV9E",
        "colab_type": "text"
      },
      "source": [
        "Суть данного подхода заключается в нумерации возможных значений (в случае если их конечное множество) и представлении какждого из них в качестве его порядкового номера"
      ]
    },
    {
      "cell_type": "code",
      "metadata": {
        "id": "5B87-KXonerO",
        "colab_type": "code",
        "colab": {
          "base_uri": "https://localhost:8080/",
          "height": 374
        },
        "outputId": "bfe81e77-31d7-4b28-e623-e4759f23709c"
      },
      "source": [
        "df.cat.replace({x: i for i, x in enumerate(elements)})"
      ],
      "execution_count": 9,
      "outputs": [
        {
          "output_type": "execute_result",
          "data": {
            "text/plain": [
              "0     2\n",
              "1     2\n",
              "2     3\n",
              "3     4\n",
              "4     0\n",
              "5     1\n",
              "6     1\n",
              "7     0\n",
              "8     3\n",
              "9     1\n",
              "10    2\n",
              "11    0\n",
              "12    0\n",
              "13    4\n",
              "14    3\n",
              "15    4\n",
              "16    0\n",
              "17    3\n",
              "18    2\n",
              "19    4\n",
              "Name: cat, dtype: int64"
            ]
          },
          "metadata": {
            "tags": []
          },
          "execution_count": 9
        }
      ]
    },
    {
      "cell_type": "markdown",
      "metadata": {
        "id": "Hpgy0u68zQBo",
        "colab_type": "text"
      },
      "source": [
        "Главным минусом данного подхода является появление определенного веса у того или иного значения признака за счет величины значения его представления, что может привести к возникновению ошибочных закономерностей"
      ]
    },
    {
      "cell_type": "markdown",
      "metadata": {
        "id": "cl3G6i4rzq26",
        "colab_type": "text"
      },
      "source": [
        "## Булеризация (One-Hot-Encoder)\n",
        "\n",
        "Подход, при котором каждое значение искомого признака представляется в качестве нового, уже бинарного типа, содержащего  1 *(True)* для объекта которому соответствует  и 0 *(False)* в остальных случаях. Количество итоговых векторов равно изначальному количеству значений рассматриваемого признака."
      ]
    },
    {
      "cell_type": "code",
      "metadata": {
        "id": "z_ImQJol093V",
        "colab_type": "code",
        "colab": {
          "base_uri": "https://localhost:8080/",
          "height": 669
        },
        "outputId": "0c89014f-9183-4294-cdf3-1f67adddfc73"
      },
      "source": [
        "pd.get_dummies(df)"
      ],
      "execution_count": 10,
      "outputs": [
        {
          "output_type": "execute_result",
          "data": {
            "text/html": [
              "<div>\n",
              "<style scoped>\n",
              "    .dataframe tbody tr th:only-of-type {\n",
              "        vertical-align: middle;\n",
              "    }\n",
              "\n",
              "    .dataframe tbody tr th {\n",
              "        vertical-align: top;\n",
              "    }\n",
              "\n",
              "    .dataframe thead th {\n",
              "        text-align: right;\n",
              "    }\n",
              "</style>\n",
              "<table border=\"1\" class=\"dataframe\">\n",
              "  <thead>\n",
              "    <tr style=\"text-align: right;\">\n",
              "      <th></th>\n",
              "      <th>cat_Air</th>\n",
              "      <th>cat_DataScience</th>\n",
              "      <th>cat_Earth</th>\n",
              "      <th>cat_Fire</th>\n",
              "      <th>cat_Water</th>\n",
              "    </tr>\n",
              "  </thead>\n",
              "  <tbody>\n",
              "    <tr>\n",
              "      <th>0</th>\n",
              "      <td>0</td>\n",
              "      <td>0</td>\n",
              "      <td>0</td>\n",
              "      <td>0</td>\n",
              "      <td>1</td>\n",
              "    </tr>\n",
              "    <tr>\n",
              "      <th>1</th>\n",
              "      <td>0</td>\n",
              "      <td>0</td>\n",
              "      <td>0</td>\n",
              "      <td>0</td>\n",
              "      <td>1</td>\n",
              "    </tr>\n",
              "    <tr>\n",
              "      <th>2</th>\n",
              "      <td>0</td>\n",
              "      <td>0</td>\n",
              "      <td>1</td>\n",
              "      <td>0</td>\n",
              "      <td>0</td>\n",
              "    </tr>\n",
              "    <tr>\n",
              "      <th>3</th>\n",
              "      <td>0</td>\n",
              "      <td>1</td>\n",
              "      <td>0</td>\n",
              "      <td>0</td>\n",
              "      <td>0</td>\n",
              "    </tr>\n",
              "    <tr>\n",
              "      <th>4</th>\n",
              "      <td>1</td>\n",
              "      <td>0</td>\n",
              "      <td>0</td>\n",
              "      <td>0</td>\n",
              "      <td>0</td>\n",
              "    </tr>\n",
              "    <tr>\n",
              "      <th>5</th>\n",
              "      <td>0</td>\n",
              "      <td>0</td>\n",
              "      <td>0</td>\n",
              "      <td>1</td>\n",
              "      <td>0</td>\n",
              "    </tr>\n",
              "    <tr>\n",
              "      <th>6</th>\n",
              "      <td>0</td>\n",
              "      <td>0</td>\n",
              "      <td>0</td>\n",
              "      <td>1</td>\n",
              "      <td>0</td>\n",
              "    </tr>\n",
              "    <tr>\n",
              "      <th>7</th>\n",
              "      <td>1</td>\n",
              "      <td>0</td>\n",
              "      <td>0</td>\n",
              "      <td>0</td>\n",
              "      <td>0</td>\n",
              "    </tr>\n",
              "    <tr>\n",
              "      <th>8</th>\n",
              "      <td>0</td>\n",
              "      <td>0</td>\n",
              "      <td>1</td>\n",
              "      <td>0</td>\n",
              "      <td>0</td>\n",
              "    </tr>\n",
              "    <tr>\n",
              "      <th>9</th>\n",
              "      <td>0</td>\n",
              "      <td>0</td>\n",
              "      <td>0</td>\n",
              "      <td>1</td>\n",
              "      <td>0</td>\n",
              "    </tr>\n",
              "    <tr>\n",
              "      <th>10</th>\n",
              "      <td>0</td>\n",
              "      <td>0</td>\n",
              "      <td>0</td>\n",
              "      <td>0</td>\n",
              "      <td>1</td>\n",
              "    </tr>\n",
              "    <tr>\n",
              "      <th>11</th>\n",
              "      <td>1</td>\n",
              "      <td>0</td>\n",
              "      <td>0</td>\n",
              "      <td>0</td>\n",
              "      <td>0</td>\n",
              "    </tr>\n",
              "    <tr>\n",
              "      <th>12</th>\n",
              "      <td>1</td>\n",
              "      <td>0</td>\n",
              "      <td>0</td>\n",
              "      <td>0</td>\n",
              "      <td>0</td>\n",
              "    </tr>\n",
              "    <tr>\n",
              "      <th>13</th>\n",
              "      <td>0</td>\n",
              "      <td>1</td>\n",
              "      <td>0</td>\n",
              "      <td>0</td>\n",
              "      <td>0</td>\n",
              "    </tr>\n",
              "    <tr>\n",
              "      <th>14</th>\n",
              "      <td>0</td>\n",
              "      <td>0</td>\n",
              "      <td>1</td>\n",
              "      <td>0</td>\n",
              "      <td>0</td>\n",
              "    </tr>\n",
              "    <tr>\n",
              "      <th>15</th>\n",
              "      <td>0</td>\n",
              "      <td>1</td>\n",
              "      <td>0</td>\n",
              "      <td>0</td>\n",
              "      <td>0</td>\n",
              "    </tr>\n",
              "    <tr>\n",
              "      <th>16</th>\n",
              "      <td>1</td>\n",
              "      <td>0</td>\n",
              "      <td>0</td>\n",
              "      <td>0</td>\n",
              "      <td>0</td>\n",
              "    </tr>\n",
              "    <tr>\n",
              "      <th>17</th>\n",
              "      <td>0</td>\n",
              "      <td>0</td>\n",
              "      <td>1</td>\n",
              "      <td>0</td>\n",
              "      <td>0</td>\n",
              "    </tr>\n",
              "    <tr>\n",
              "      <th>18</th>\n",
              "      <td>0</td>\n",
              "      <td>0</td>\n",
              "      <td>0</td>\n",
              "      <td>0</td>\n",
              "      <td>1</td>\n",
              "    </tr>\n",
              "    <tr>\n",
              "      <th>19</th>\n",
              "      <td>0</td>\n",
              "      <td>1</td>\n",
              "      <td>0</td>\n",
              "      <td>0</td>\n",
              "      <td>0</td>\n",
              "    </tr>\n",
              "  </tbody>\n",
              "</table>\n",
              "</div>"
            ],
            "text/plain": [
              "    cat_Air  cat_DataScience  cat_Earth  cat_Fire  cat_Water\n",
              "0         0                0          0         0          1\n",
              "1         0                0          0         0          1\n",
              "2         0                0          1         0          0\n",
              "3         0                1          0         0          0\n",
              "4         1                0          0         0          0\n",
              "5         0                0          0         1          0\n",
              "6         0                0          0         1          0\n",
              "7         1                0          0         0          0\n",
              "8         0                0          1         0          0\n",
              "9         0                0          0         1          0\n",
              "10        0                0          0         0          1\n",
              "11        1                0          0         0          0\n",
              "12        1                0          0         0          0\n",
              "13        0                1          0         0          0\n",
              "14        0                0          1         0          0\n",
              "15        0                1          0         0          0\n",
              "16        1                0          0         0          0\n",
              "17        0                0          1         0          0\n",
              "18        0                0          0         0          1\n",
              "19        0                1          0         0          0"
            ]
          },
          "metadata": {
            "tags": []
          },
          "execution_count": 10
        }
      ]
    },
    {
      "cell_type": "markdown",
      "metadata": {
        "id": "kqPWNX-21c7Y",
        "colab_type": "text"
      },
      "source": [
        "Этот метод позволяет сохранить всю информацию, но приводит к занчительному приросту в исходном датафрейме, что как следствие ведет к нагрузке на оперативную память и усложнению расчетов. Некоторые модели чувствительны к количеству признаков, и даже те, которые считатются устойчивыми - предполагают оптимальное соотношение количества признаков к количеству объектов.\n",
        "Тем не менее, если число принимаемых признаком значений не велико - это один из лучших способов представления"
      ]
    },
    {
      "cell_type": "markdown",
      "metadata": {
        "id": "fYtKspP_2h-Q",
        "colab_type": "text"
      },
      "source": [
        "## Частотное кодирование (Frequency Encoder)\n",
        "\n",
        "Схоже в совей сущности с номинальным, только вместо порядкового номера подставляется частота появления значения"
      ]
    },
    {
      "cell_type": "code",
      "metadata": {
        "id": "SJxmsMgI2Rvc",
        "colab_type": "code",
        "colab": {
          "base_uri": "https://localhost:8080/",
          "height": 136
        },
        "outputId": "ed4f28d1-f745-41f3-f414-72cc76619e29"
      },
      "source": [
        "print(df.cat.value_counts())\n",
        "{df.cat.value_counts()[i]: i for i in elements} "
      ],
      "execution_count": 24,
      "outputs": [
        {
          "output_type": "stream",
          "text": [
            "Air            5\n",
            "Water          4\n",
            "DataScience    4\n",
            "Earth          4\n",
            "Fire           3\n",
            "Name: cat, dtype: int64\n"
          ],
          "name": "stdout"
        },
        {
          "output_type": "execute_result",
          "data": {
            "text/plain": [
              "{3: 'Fire', 4: 'DataScience', 5: 'Air'}"
            ]
          },
          "metadata": {
            "tags": []
          },
          "execution_count": 24
        }
      ]
    },
    {
      "cell_type": "markdown",
      "metadata": {
        "id": "Yv4Pw5rE4mkD",
        "colab_type": "text"
      },
      "source": [
        "Я решил оставить текущий пример и не синтезировать новый, подходящий под текекущий подход, потому как данная ситуация отлично показывает главную проблему: типичный случай, когда частоты у некоторых значений совпадают, также теряется часть информации и возникают ложные связи. Текущий подход опрадан только если количество значений велико, а сохранение минимальной размерности датафрейма критично."
      ]
    },
    {
      "cell_type": "markdown",
      "metadata": {
        "id": "qm6ZXB4C5j5S",
        "colab_type": "text"
      },
      "source": [
        "## Группа целевого кодирования\n",
        "\n",
        "К этой группе относится целый ряд подходов, клюевой особенностью которых является представление значения признака через целевую переменную путем определенных преобразований или интерпетаций. это может быть использование среднего значения или пробразование с помощью одной из формул. Главным преимуществом таких подходов является укрепление связи между текзим признаком и таргетом, что позитивно сказывается на точности модели. К ним относятся TE, M-Estimate Encoder, James-Stein Encoder, Саша ты и сам знаешь откуда я это прочитал"
      ]
    }
  ]
}