{
  "nbformat": 4,
  "nbformat_minor": 0,
  "metadata": {
    "colab": {
      "name": "C1W2",
      "version": "0.3.2",
      "provenance": [],
      "collapsed_sections": [],
      "toc_visible": true
    },
    "kernelspec": {
      "name": "python3",
      "display_name": "Python 3"
    }
  },
  "cells": [
    {
      "cell_type": "markdown",
      "metadata": {
        "id": "QuPW8KK9Sd0O",
        "colab_type": "text"
      },
      "source": [
        "# Линейная алгебра: сходство текстов и аппроксимация функций"
      ]
    },
    {
      "cell_type": "markdown",
      "metadata": {
        "id": "tvi9TchaSoDU",
        "colab_type": "text"
      },
      "source": [
        "## Задача 1: сравнение предложений"
      ]
    },
    {
      "cell_type": "markdown",
      "metadata": {
        "id": "zXZyn8YjSrHF",
        "colab_type": "text"
      },
      "source": [
        "Дан набор предложений, скопированных с Википедии. Каждое из них имеет \"кошачью тему\" в одном из трех смыслов:  \n",
        "\n",
        "*  кошки (животные)\n",
        "*  UNIX-утилита cat для вывода содержимого файлов\n",
        "*  версии операционной системы OS X, названные в честь семейства кошачьих  \n",
        "\n",
        "Ваша задача — **найти два предложения, которые ближе всего по смыслу к расположенному в самой первой строке**. В качестве меры близости по смыслу мы будем использовать косинусное расстояние."
      ]
    },
    {
      "cell_type": "markdown",
      "metadata": {
        "id": "JMqjSsb8S-ZV",
        "colab_type": "text"
      },
      "source": [
        "### Шаг 1\n",
        "\n",
        "Скачайте файл с предложениями (sentences.txt)."
      ]
    },
    {
      "cell_type": "code",
      "metadata": {
        "id": "JgbcyFOISA6M",
        "colab_type": "code",
        "colab": {}
      },
      "source": [
        "import requests\n",
        "\n",
        "requests_sentences = requests.get(r'https://d3c33hcgiwev3.cloudfront.net/_3a8d746cf4d86fba2f31586f239d11fd_sentences.txt?Expires=1560902400&Signature=JQAoPnhRiM7g6rW4LEHJzMWC2HXUJQ3ycHN4JA38gq0CKS1fz046SAEF3Zsdq2MnfbRH7lVrX-Yhj7xU69wsH-5fLHN3gnnJtOLriwzcbsvdjurxoDpmY8rmNiFqPoeXllNyJz1~DDxYoc5wfZdTa5HC9pXuAkOaczsJFFFoVNU_&Key-Pair-Id=APKAJLTNE6QMUY6HBC5A')\n",
        "sentences = requests_sentences.text.split('\\n')"
      ],
      "execution_count": 0,
      "outputs": []
    },
    {
      "cell_type": "markdown",
      "metadata": {
        "id": "LHBdq14ZV4lG",
        "colab_type": "text"
      },
      "source": [
        "### Шаг 2\n",
        "\n",
        "Каждая строка в файле соответствует одному предложению. Считайте их, приведите каждую к нижнему регистру с помощью строковой функции lower()"
      ]
    },
    {
      "cell_type": "code",
      "metadata": {
        "id": "erZuwG0jUlXt",
        "colab_type": "code",
        "outputId": "4364a9e8-ea7b-48d0-f43b-18ee576ba56c",
        "colab": {
          "base_uri": "https://localhost:8080/",
          "height": 428
        }
      },
      "source": [
        "sentences =  [line.lower() for line in sentences]\n",
        "sentences"
      ],
      "execution_count": 0,
      "outputs": [
        {
          "output_type": "execute_result",
          "data": {
            "text/plain": [
              "['in comparison to dogs, cats have not undergone major changes during the domestication process.',\n",
              " 'as cat simply catenates streams of bytes, it can be also used to concatenate binary files, where it will just concatenate sequence of bytes.',\n",
              " 'a common interactive use of cat for a single file is to output the content of a file to standard output.',\n",
              " 'cats can hear sounds too faint or too high in frequency for human ears, such as those made by mice and other small animals.',\n",
              " 'in one, people deliberately tamed cats in a process of artificial selection, as they were useful predators of vermin.',\n",
              " 'the domesticated cat and its closest wild ancestor are both diploid organisms that possess 38 chromosomes and roughly 20,000 genes.',\n",
              " 'domestic cats are similar in size to the other members of the genus felis, typically weighing between 4 and 5 kg (8.8 and 11.0 lb).',\n",
              " 'however, if the output is piped or redirected, cat is unnecessary.',\n",
              " 'cat with one named file is safer where human error is a concern - one wrong use of the default redirection symbol \">\" instead of \"<\" (often adjacent on keyboards) may permanently delete the file you were just needing to read.',\n",
              " 'in terms of legibility, a sequence of commands starting with cat and connected by pipes has a clear left-to-right flow of information.',\n",
              " 'cat command is one of the basic commands that you learned when you started in the unix / linux world.',\n",
              " 'using cat command, the lines received from stdin can be redirected to a new file using redirection symbols.',\n",
              " 'when you type simply cat command without any arguments, it just receives the stdin content and displays it in the stdout.',\n",
              " 'leopard was released on october 26, 2007 as the successor of tiger (version 10.4), and is available in two editions.',\n",
              " 'according to apple, leopard contains over 300 changes and enhancements over its predecessor, mac os x tiger.',\n",
              " 'as of mid 2010, some apple computers have firmware factory installed which will no longer allow installation of mac os x leopard.',\n",
              " 'since apple moved to using intel processors in their computers, the osx86 community has developed and now also allows mac os x tiger and later releases to be installed on non-apple x86-based computers.',\n",
              " \"os x mountain lion was released on july 25, 2012 for purchase and download through apple's mac app store, as part of a switch to releasing os x versions online and every year.\",\n",
              " 'apple has released a small patch for the three most recent versions of safari running on os x yosemite, mavericks, and mountain lion.',\n",
              " 'the mountain lion release marks the second time apple has offered an incremental upgrade, rather than releasing a new cat entirely.',\n",
              " \"mac os x mountain lion installs in place, so you won't need to create a separate disk or run the installation off an external drive.\",\n",
              " \"the fifth major update to mac os x, leopard, contains such a mountain of features - more than 300 by apple's count.\",\n",
              " '']"
            ]
          },
          "metadata": {
            "tags": []
          },
          "execution_count": 49
        }
      ]
    },
    {
      "cell_type": "markdown",
      "metadata": {
        "id": "kiMvkK30WUIt",
        "colab_type": "text"
      },
      "source": [
        "### Шаг 3\n",
        "Произведите токенизацию, то есть разбиение текстов на слова. Не забудьте удалить пустые слова после разделения."
      ]
    },
    {
      "cell_type": "code",
      "metadata": {
        "id": "2riQBC6wWdek",
        "colab_type": "code",
        "outputId": "4139bfa2-84bc-4c71-baf5-e0cf41df6eae",
        "colab": {
          "base_uri": "https://localhost:8080/",
          "height": 34
        }
      },
      "source": [
        "import re\n",
        "\n",
        "# Разбиение каждой строки на слова с помощью регулярного выражения\n",
        "sentences = [re.split('[^a-z]', str(word)) for word in sentences]  \n",
        "# Преобразование двухмерного списка строк в одномерный список слов\n",
        "words = sum(sentences,[])\n",
        "# Удаление \"пустых\" слов\n",
        "words = [word for word in words if word]\n",
        "words[:5] # для примера, срез первых 4-х слов из получившегося списка"
      ],
      "execution_count": 0,
      "outputs": [
        {
          "output_type": "execute_result",
          "data": {
            "text/plain": [
              "['in', 'comparison', 'to', 'dogs', 'cats']"
            ]
          },
          "metadata": {
            "tags": []
          },
          "execution_count": 50
        }
      ]
    },
    {
      "cell_type": "markdown",
      "metadata": {
        "id": "-d3NuUxYZUr9",
        "colab_type": "text"
      },
      "source": [
        "### Шаг 4\n",
        "Составьте список всех слов, встречающихся в предложениях. Сопоставьте каждому слову индекс от нуля до (d - 1), где d — число различных слов в предложениях. Для этого удобно воспользоваться структурой dict\n"
      ]
    },
    {
      "cell_type": "code",
      "metadata": {
        "id": "klV0QKvJZcRU",
        "colab_type": "code",
        "outputId": "4ffdc4ea-10e6-42d0-805c-7a60e6cac5b0",
        "colab": {
          "base_uri": "https://localhost:8080/",
          "height": 54
        }
      },
      "source": [
        "# Переопределим список слов как set, чтобы избавиться от дубликатов\n",
        "# Контекст задачи позволяет не учитывать формы слов (к примеру cat и cats считать разными словами)\n",
        "words = set(words)\n",
        "# Создадим словарь формата ключ: индекс, значение: слово\n",
        "dict_of_words = {index: word for index, word in enumerate(words)}\n",
        "print(dict_of_words) # вот как это выглядит"
      ],
      "execution_count": 0,
      "outputs": [
        {
          "output_type": "stream",
          "text": [
            "{0: 'catenates', 1: 'allows', 2: 'create', 3: 'drive', 4: 'will', 5: 's', 6: 'every', 7: 'if', 8: 'domestic', 9: 'october', 10: 'since', 11: 'human', 12: 'useful', 13: 'named', 14: 'time', 15: 'chromosomes', 16: 'release', 17: 'between', 18: 'ears', 19: 'marks', 20: 'file', 21: 'are', 22: 'lines', 23: 'received', 24: 'changes', 25: 'however', 26: 'frequency', 27: 'from', 28: 'new', 29: 'similar', 30: 'later', 31: 'according', 32: 'run', 33: 'yosemite', 34: 'sequence', 35: 'displays', 36: 'installs', 37: 'commands', 38: 'concern', 39: 'hear', 40: 'right', 41: 'longer', 42: 'domesticated', 43: 'incremental', 44: 'one', 45: 'off', 46: 'process', 47: 'kg', 48: 'some', 49: 'just', 50: 'left', 51: 'version', 52: 'through', 53: 'bytes', 54: 'you', 55: 'other', 56: 'without', 57: 'count', 58: 'installed', 59: 'community', 60: 'comparison', 61: 'too', 62: 'small', 63: 'in', 64: 'terms', 65: 'also', 66: 'wrong', 67: 'july', 68: 'ancestor', 69: 'releasing', 70: 'now', 71: 'place', 72: 'separate', 73: 'artificial', 74: 'symbol', 75: 'has', 76: 'were', 77: 'moved', 78: 'of', 79: 'any', 80: 'editions', 81: 'cats', 82: 'mac', 83: 'major', 84: 'part', 85: 'most', 86: 't', 87: 'for', 88: 'available', 89: 'rather', 90: 'offered', 91: 'not', 92: 'basic', 93: 'predecessor', 94: 'os', 95: 'computers', 96: 'lb', 97: 'factory', 98: 'both', 99: 'diploid', 100: 'type', 101: 'released', 102: 'non', 103: 'redirection', 104: 'patch', 105: 'external', 106: 'learned', 107: 'won', 108: 'need', 109: 'have', 110: 'weighing', 111: 'redirected', 112: 'by', 113: 'animals', 114: 'receives', 115: 'over', 116: 'high', 117: 'store', 118: 'predators', 119: 'processors', 120: 'they', 121: 'instead', 122: 'symbols', 123: 'world', 124: 'leopard', 125: 'streams', 126: 'mavericks', 127: 'second', 128: 'online', 129: 'content', 130: 'stdout', 131: 'its', 132: 'closest', 133: 'firmware', 134: 'releases', 135: 'made', 136: 'that', 137: 'read', 138: 'to', 139: 'lion', 140: 'their', 141: 'two', 142: 'safer', 143: 'contains', 144: 'unix', 145: 'sounds', 146: 'apple', 147: 'enhancements', 148: 'such', 149: 'starting', 150: 'needing', 151: 'versions', 152: 'allow', 153: 'deliberately', 154: 'adjacent', 155: 'started', 156: 'was', 157: 'download', 158: 'purchase', 159: 'unnecessary', 160: 'tamed', 161: 'standard', 162: 'undergone', 163: 'more', 164: 'update', 165: 'felis', 166: 'installation', 167: 'organisms', 168: 'mountain', 169: 'entirely', 170: 'often', 171: 'it', 172: 'is', 173: 'legibility', 174: 'possess', 175: 'command', 176: 'switch', 177: 'three', 178: 'single', 179: 'genes', 180: 'using', 181: 'people', 182: 'dogs', 183: 'during', 184: 'those', 185: 'permanently', 186: 'tiger', 187: 'be', 188: 'running', 189: 'pipes', 190: 'size', 191: 'successor', 192: 'error', 193: 'members', 194: 'x', 195: 'as', 196: 'simply', 197: 'used', 198: 'where', 199: 'mice', 200: 'wild', 201: 'typically', 202: 'piped', 203: 'stdin', 204: 'safari', 205: 'binary', 206: 'disk', 207: 'delete', 208: 'default', 209: 'year', 210: 'than', 211: 'domestication', 212: 'connected', 213: 'keyboards', 214: 'output', 215: 'developed', 216: 'roughly', 217: 'arguments', 218: 'recent', 219: 'so', 220: 'on', 221: 'use', 222: 'information', 223: 'with', 224: 'when', 225: 'flow', 226: 'osx', 227: 'concatenate', 228: 'features', 229: 'the', 230: 'no', 231: 'based', 232: 'common', 233: 'or', 234: 'selection', 235: 'which', 236: 'intel', 237: 'may', 238: 'faint', 239: 'an', 240: 'files', 241: 'upgrade', 242: 'can', 243: 'genus', 244: 'mid', 245: 'app', 246: 'cat', 247: 'linux', 248: 'vermin', 249: 'clear', 250: 'and', 251: 'fifth', 252: 'a', 253: 'interactive'}\n"
          ],
          "name": "stdout"
        }
      ]
    },
    {
      "cell_type": "markdown",
      "metadata": {
        "id": "BTRRHOgreUvb",
        "colab_type": "text"
      },
      "source": [
        "### Шаг 5\n",
        "Создайте матрицу размера n * d, где n — число предложений. Заполните ее: элемент с индексом (i, j) в этой матрице должен быть равен количеству вхождений j-го слова в i-е предложение. У вас должна получиться матрица размера 22 * 254."
      ]
    },
    {
      "cell_type": "code",
      "metadata": {
        "id": "y4JPQptSehFU",
        "colab_type": "code",
        "outputId": "9c8132ec-c898-4e61-bec6-6a7ff7358c2f",
        "colab": {
          "base_uri": "https://localhost:8080/",
          "height": 238
        }
      },
      "source": [
        "import numpy as np\n",
        "from collections import Counter\n",
        "\n",
        "n = len(sentences) - 1 # пустую строку не учитываем\n",
        "d = len(dict_of_words)\n",
        "\n",
        "matrix = np.zeros((n, d), dtype=int)  \n",
        "\n",
        "for i in range(len(matrix)): # перебор индексов строк матрицы\n",
        "  how_many_words = Counter(sentences[i]) # cловарь формата слово: количество в предложении\n",
        "  matrix[i] = [\n",
        "      how_many_words[dict_of_words[j]] for j in range(len(matrix[i]))\n",
        "  ]\n",
        "\n",
        "print(matrix.shape) # контроль размера\n",
        "matrix[0] # первое предложение для примера"
      ],
      "execution_count": 0,
      "outputs": [
        {
          "output_type": "stream",
          "text": [
            "(22, 254)\n"
          ],
          "name": "stdout"
        },
        {
          "output_type": "execute_result",
          "data": {
            "text/plain": [
              "array([0, 0, 0, 0, 0, 0, 0, 0, 0, 0, 0, 0, 0, 0, 0, 0, 0, 0, 0, 0, 0, 0,\n",
              "       0, 0, 1, 0, 0, 0, 0, 0, 0, 0, 0, 0, 0, 0, 0, 0, 0, 0, 0, 0, 0, 0,\n",
              "       0, 0, 1, 0, 0, 0, 0, 0, 0, 0, 0, 0, 0, 0, 0, 0, 1, 0, 0, 1, 0, 0,\n",
              "       0, 0, 0, 0, 0, 0, 0, 0, 0, 0, 0, 0, 0, 0, 0, 1, 0, 1, 0, 0, 0, 0,\n",
              "       0, 0, 0, 1, 0, 0, 0, 0, 0, 0, 0, 0, 0, 0, 0, 0, 0, 0, 0, 0, 0, 1,\n",
              "       0, 0, 0, 0, 0, 0, 0, 0, 0, 0, 0, 0, 0, 0, 0, 0, 0, 0, 0, 0, 0, 0,\n",
              "       0, 0, 0, 0, 0, 0, 1, 0, 0, 0, 0, 0, 0, 0, 0, 0, 0, 0, 0, 0, 0, 0,\n",
              "       0, 0, 0, 0, 0, 0, 0, 0, 1, 0, 0, 0, 0, 0, 0, 0, 0, 0, 0, 0, 0, 0,\n",
              "       0, 0, 0, 0, 0, 0, 1, 1, 0, 0, 0, 0, 0, 0, 0, 0, 0, 0, 0, 0, 0, 0,\n",
              "       0, 0, 0, 0, 0, 0, 0, 0, 0, 0, 0, 0, 0, 1, 0, 0, 0, 0, 0, 0, 0, 0,\n",
              "       0, 0, 0, 0, 0, 0, 0, 0, 0, 1, 0, 0, 0, 0, 0, 0, 0, 0, 0, 0, 0, 0,\n",
              "       0, 0, 0, 0, 0, 0, 0, 0, 0, 0, 0, 0])"
            ]
          },
          "metadata": {
            "tags": []
          },
          "execution_count": 52
        }
      ]
    },
    {
      "cell_type": "markdown",
      "metadata": {
        "id": "GINBAskQq3W5",
        "colab_type": "text"
      },
      "source": [
        "### Шаг 6\n",
        "Найдите косинусное расстояние от предложения в самой первой строке (In comparison to dogs, cats have not undergone...) до всех остальных   \n",
        "Какие номера у двух предложений, ближайших к нему по этому расстоянию (строки нумеруются с нуля)?   \n",
        "Эти два числа и будут ответами на задание.   \n",
        "Само предложение (In comparison to dogs, cats have not undergone... ) имеет индекс 0"
      ]
    },
    {
      "cell_type": "code",
      "metadata": {
        "id": "SoDrwxJXrtBA",
        "colab_type": "code",
        "outputId": "436de371-7d96-4f26-9797-94c6f6594bed",
        "colab": {
          "base_uri": "https://localhost:8080/",
          "height": 51
        }
      },
      "source": [
        "from scipy.spatial.distance import cosine\n",
        "\n",
        "# Определим словарь формата косинусное расстояние: номер предложения\n",
        "distances = {cosine(matrix[0], matrix[i]): i for i in range(len(matrix))}\n",
        "\n",
        "answer = []\n",
        "for distance, num in sorted(distances.items())[1:3]:\n",
        "    print(distance, num)\n",
        "    answer.append(str(num))"
      ],
      "execution_count": 0,
      "outputs": [
        {
          "output_type": "stream",
          "text": [
            "0.7327387580875756 6\n",
            "0.7770887149698589 4\n"
          ],
          "name": "stdout"
        }
      ]
    },
    {
      "cell_type": "markdown",
      "metadata": {
        "id": "Iv5Nxfj7ymrZ",
        "colab_type": "text"
      },
      "source": [
        "### Шаг 7\n",
        "Запишите полученные числа в файл, разделив пробелом"
      ]
    },
    {
      "cell_type": "code",
      "metadata": {
        "id": "Xd4ba-3Ky27_",
        "colab_type": "code",
        "colab": {}
      },
      "source": [
        "with open('C1W2 answer 1', 'w') as output_file:\n",
        "  output_file.write(' '.join(answer))"
      ],
      "execution_count": 0,
      "outputs": []
    },
    {
      "cell_type": "markdown",
      "metadata": {
        "id": "qmSPBGb4znBG",
        "colab_type": "text"
      },
      "source": [
        "## Задача 2: аппроксимация функции\n",
        "\n",
        "Рассмотрим сложную математическую функцию на отрезке [1, 15]:\n",
        "f(x) = sin(x / 5) * exp(x / 10) + 5 * exp(-x / 2)"
      ]
    },
    {
      "cell_type": "code",
      "metadata": {
        "id": "pieeuwgqz9kX",
        "colab_type": "code",
        "outputId": "1468f360-6a1c-4962-dfad-83846f986231",
        "colab": {
          "base_uri": "https://localhost:8080/",
          "height": 286
        }
      },
      "source": [
        "import matplotlib.pyplot as plot\n",
        "import math\n",
        "import scipy\n",
        "\n",
        "\n",
        "def f(x):\n",
        "  return math.sin(x / 5) * math.exp(x / 10) + 5 * math.exp(-x / 2)\n",
        "\n",
        "\n",
        "data_x = np.arange(1, 16, 0.1)\n",
        "data_y = [f(x) for x in data_x]\n",
        "\n",
        "plot.plot(data_x, data_y)"
      ],
      "execution_count": 0,
      "outputs": [
        {
          "output_type": "execute_result",
          "data": {
            "text/plain": [
              "[<matplotlib.lines.Line2D at 0x7fe24b60b4e0>]"
            ]
          },
          "metadata": {
            "tags": []
          },
          "execution_count": 107
        },
        {
          "output_type": "display_data",
          "data": {
            "image/png": "[encoded data removed]",
            "text/plain": [
              "<Figure size 432x288 with 1 Axes>"
            ]
          },
          "metadata": {
            "tags": []
          }
        }
      ]
    },
    {
      "cell_type": "markdown",
      "metadata": {
        "id": "Zz_BggtV4ZZe",
        "colab_type": "text"
      },
      "source": [
        "Она может описывать, например, зависимость оценок, которые выставляют определенному сорту вина эксперты, в зависимости от возраста этого вина.  \n",
        "По сути, задача машинного обучения состоит в том, чтобы приблизить сложную зависимость с помощью функции из определенного семейства.  \n",
        "В этом задании мы будем приближать указанную функцию с помощью многочленов."
      ]
    },
    {
      "cell_type": "markdown",
      "metadata": {
        "id": "y2EZaAURwjGB",
        "colab_type": "text"
      },
      "source": [
        "Как известно, многочлен степени n (то есть w_0 + w_1 x + w_2 x^2 + ... + w_n x^n) однозначно определяется любыми n + 1 различными точками, через которые он проходит. Это значит, что его коэффициенты w_0, ... w_n можно определить из  системы линейных уравнений, где через x_1, ..., x_n, x_{n+1} обозначены точки, через которые проходит многочлен, а через f(x_1), ..., f(x_n), f(x_{n+1}) — значения, которые он должен принимать в этих точках."
      ]
    },
    {
      "cell_type": "markdown",
      "metadata": {
        "id": "9j8TxwgHwqPK",
        "colab_type": "text"
      },
      "source": [
        "Воспользуемся описанным свойством, и будем находить приближение функции многочленом, решая систему линейных уравнений."
      ]
    },
    {
      "cell_type": "markdown",
      "metadata": {
        "id": "Uk2pN1t2wwiT",
        "colab_type": "text"
      },
      "source": [
        "### Шаг 1\n",
        "Сформируйте систему линейных уравнений (то есть задайте матрицу коэффициентов A и свободный вектор b) для многочлена первой степени, который должен совпадать с функцией f в точках 1 и 15.   \n"
      ]
    },
    {
      "cell_type": "code",
      "metadata": {
        "id": "Ctkn4r2Eze3h",
        "colab_type": "code",
        "colab": {}
      },
      "source": [
        "def create_matrix(points): # вынесем повторяемый код в функции\n",
        "  matrix = [\n",
        "      [x**i for i in range(len(points))] \n",
        "      for x in points\n",
        "  ]\n",
        "  return np.array(matrix)"
      ],
      "execution_count": 0,
      "outputs": []
    },
    {
      "cell_type": "code",
      "metadata": {
        "id": "7l8hxr667FfW",
        "colab_type": "code",
        "colab": {}
      },
      "source": [
        "def approximate(w, vector):\n",
        "  return np.array([\n",
        "      sum([w[i]*(v**i) for i in range(len(w))])\n",
        "      for v in vector\n",
        "  ])"
      ],
      "execution_count": 0,
      "outputs": []
    },
    {
      "cell_type": "code",
      "metadata": {
        "id": "Fl2U-vMzAsJx",
        "colab_type": "code",
        "colab": {}
      },
      "source": [
        "def solve(points):\n",
        "  A = create_matrix(points)\n",
        "  b = [f(x) for x in points]\n",
        "  w = scipy.linalg.solve(A, b)\n",
        "  return w, get_approximate_values(w, b)"
      ],
      "execution_count": 0,
      "outputs": []
    },
    {
      "cell_type": "code",
      "metadata": {
        "id": "j8HDw_IYzcgt",
        "colab_type": "code",
        "outputId": "da2976d0-c8b2-4d04-d638-57758f96f5a1",
        "colab": {
          "base_uri": "https://localhost:8080/",
          "height": 34
        }
      },
      "source": [
        "solve([1, 15])"
      ],
      "execution_count": 0,
      "outputs": [
        {
          "output_type": "execute_result",
          "data": {
            "text/plain": [
              "(array([ 3.43914511, -0.18692825]), [2.8312139167622963, 3.320404285532055])"
            ]
          },
          "metadata": {
            "tags": []
          },
          "execution_count": 138
        }
      ]
    },
    {
      "cell_type": "markdown",
      "metadata": {
        "id": "7IPNcpWEBo9m",
        "colab_type": "text"
      },
      "source": [
        "### Шаг 2\n",
        "Повторите те же шаги для многочлена второй степени, который совпадает с функцией f в точках 1, 8 и 15"
      ]
    },
    {
      "cell_type": "code",
      "metadata": {
        "id": "KMhGu5_KwiF8",
        "colab_type": "code",
        "outputId": "aeb0752e-5c5d-4da9-8402-f6e27bbb2ac2",
        "colab": {
          "base_uri": "https://localhost:8080/",
          "height": 51
        }
      },
      "source": [
        "solve([1, 8, 15])"
      ],
      "execution_count": 0,
      "outputs": [
        {
          "output_type": "execute_result",
          "data": {
            "text/plain": [
              "(array([ 3.32512949, -0.06531159, -0.00760104]),\n",
              " [3.0323264845598232, 3.133079862354996, 3.280575107020659])"
            ]
          },
          "metadata": {
            "tags": []
          },
          "execution_count": 139
        }
      ]
    },
    {
      "cell_type": "markdown",
      "metadata": {
        "id": "38z2ohvzB2h1",
        "colab_type": "text"
      },
      "source": [
        "### Шаг 3\n",
        "Повторите те же шаги для многочлена третьей степени, который совпадает с функцией f в точках 1, 4, 10 и 15.   \n",
        "Коэффициенты данного многочлена (четыре числа в следующем порядке: w_0, w_1, w_2, w_3) являются ответом на задачу.   \n"
      ]
    },
    {
      "cell_type": "code",
      "metadata": {
        "id": "XKv55emXCBhw",
        "colab_type": "code",
        "outputId": "7f5bec1c-bc07-4547-cabf-66298ea5303d",
        "colab": {
          "base_uri": "https://localhost:8080/",
          "height": 34
        }
      },
      "source": [
        "answer = solve([1, 4, 10, 15])[0]\n",
        "answer = ' '.join([str(a) for a in answer])\n",
        "print(answer)"
      ],
      "execution_count": 0,
      "outputs": [
        {
          "output_type": "stream",
          "text": [
            "4.362641535118072 -1.2955258656948434 0.1933368470215116 -0.008235651173320554\n"
          ],
          "name": "stdout"
        }
      ]
    },
    {
      "cell_type": "markdown",
      "metadata": {
        "id": "wX6wGPgGCbvd",
        "colab_type": "text"
      },
      "source": [
        "### Шаг 4\n",
        "Запишите полученные числа в файл, разделив пробелами."
      ]
    },
    {
      "cell_type": "code",
      "metadata": {
        "id": "28Y_LFvwCfS9",
        "colab_type": "code",
        "colab": {}
      },
      "source": [
        "with open('C1W2 answer 2', 'w') as output_file:\n",
        "  output_file.write(answer)"
      ],
      "execution_count": 0,
      "outputs": []
    }
  ]
}