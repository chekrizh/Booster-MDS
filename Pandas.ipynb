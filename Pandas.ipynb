{
  "nbformat": 4,
  "nbformat_minor": 0,
  "metadata": {
    "colab": {
      "name": "Pandas.ipynb",
      "version": "0.3.2",
      "provenance": [],
      "collapsed_sections": []
    },
    "language_info": {
      "codemirror_mode": {
        "name": "ipython",
        "version": 3
      },
      "file_extension": ".py",
      "mimetype": "text/x-python",
      "name": "python",
      "nbconvert_exporter": "python",
      "pygments_lexer": "ipython3",
      "version": "3.6.4"
    },
    "kernelspec": {
      "display_name": "Python 3",
      "language": "python",
      "name": "python3"
    }
  },
  "cells": [
    {
      "cell_type": "markdown",
      "metadata": {
        "id": "wwrhZn60w7r9",
        "colab_type": "text"
      },
      "source": [
        "Тетрадка предназначена для студентов образвательного проекта Booster MDS использование вне проекта запрещено."
      ]
    },
    {
      "cell_type": "markdown",
      "metadata": {
        "id": "-VCytxatw7r-",
        "colab_type": "text"
      },
      "source": [
        "##### Задания не несут смысловой нагрузки для реальной жизни, они сделаны лишь для того, чтоб научить использовать Pandas"
      ]
    },
    {
      "cell_type": "markdown",
      "metadata": {
        "id": "F7N2Sj6rw7r-",
        "colab_type": "text"
      },
      "source": [
        "#### Каждое задание оценивает в 1 балл, для успешной сдачи задания нужно набрать 12 баллов"
      ]
    },
    {
      "cell_type": "markdown",
      "metadata": {
        "id": "XAaSXjgbw7r_",
        "colab_type": "text"
      },
      "source": [
        "This database contains 76 attributes, but all published experiments refer to using a subset of 14 of them. In particular, the Cleveland database is the only one that has been used by ML researchers to this date. The \"goal\" field refers to the presence of heart disease in the patient. It is integer valued from 0 (no presence) to 1."
      ]
    },
    {
      "cell_type": "markdown",
      "metadata": {
        "id": "dn3prTvFw7r_",
        "colab_type": "text"
      },
      "source": [
        "https://www.kaggle.com/ronitf/heart-disease-uci"
      ]
    },
    {
      "cell_type": "markdown",
      "metadata": {
        "id": "58mw9hyAw7sA",
        "colab_type": "text"
      },
      "source": [
        "___"
      ]
    },
    {
      "cell_type": "code",
      "metadata": {
        "id": "1kAM6boyw7sB",
        "colab_type": "code",
        "colab": {}
      },
      "source": [
        "import pandas as pd\n",
        "import numpy as np"
      ],
      "execution_count": 0,
      "outputs": []
    },
    {
      "cell_type": "code",
      "metadata": {
        "id": "TCP_WPIYw7sD",
        "colab_type": "code",
        "colab": {}
      },
      "source": [
        "df = pd.read_csv('https://drive.google.com/uc?export=download&id=1eNFlps9YaZZKsH4kgABg4iJUWTCBo98Y')"
      ],
      "execution_count": 0,
      "outputs": []
    },
    {
      "cell_type": "code",
      "metadata": {
        "id": "0yc9IBCfw7sF",
        "colab_type": "code",
        "outputId": "0b85434f-a34e-42f5-f56e-ce2292a73a1b",
        "colab": {
          "base_uri": "https://localhost:8080/",
          "height": 459
        }
      },
      "source": [
        "print(df.isna().sum()) # а хуй вас знает))) \n",
        "df.head(5)"
      ],
      "execution_count": 3,
      "outputs": [
        {
          "output_type": "stream",
          "text": [
            "age                        0\n",
            "sex                        0\n",
            "chest_pain_type            0\n",
            "resting_blood_pressure     0\n",
            "cholesterol                0\n",
            "fasting_blood_sugar        0\n",
            "rest_ecg                   0\n",
            "max_heart_rate_achieved    0\n",
            "exercise_induced_angina    0\n",
            "st_depression              0\n",
            "st_slope                   0\n",
            "num_major_vessels          0\n",
            "thalassemia                0\n",
            "target                     0\n",
            "dtype: int64\n"
          ],
          "name": "stdout"
        },
        {
          "output_type": "execute_result",
          "data": {
            "text/html": [
              "<div>\n",
              "<style scoped>\n",
              "    .dataframe tbody tr th:only-of-type {\n",
              "        vertical-align: middle;\n",
              "    }\n",
              "\n",
              "    .dataframe tbody tr th {\n",
              "        vertical-align: top;\n",
              "    }\n",
              "\n",
              "    .dataframe thead th {\n",
              "        text-align: right;\n",
              "    }\n",
              "</style>\n",
              "<table border=\"1\" class=\"dataframe\">\n",
              "  <thead>\n",
              "    <tr style=\"text-align: right;\">\n",
              "      <th></th>\n",
              "      <th>age</th>\n",
              "      <th>sex</th>\n",
              "      <th>chest_pain_type</th>\n",
              "      <th>resting_blood_pressure</th>\n",
              "      <th>cholesterol</th>\n",
              "      <th>fasting_blood_sugar</th>\n",
              "      <th>rest_ecg</th>\n",
              "      <th>max_heart_rate_achieved</th>\n",
              "      <th>exercise_induced_angina</th>\n",
              "      <th>st_depression</th>\n",
              "      <th>st_slope</th>\n",
              "      <th>num_major_vessels</th>\n",
              "      <th>thalassemia</th>\n",
              "      <th>target</th>\n",
              "    </tr>\n",
              "  </thead>\n",
              "  <tbody>\n",
              "    <tr>\n",
              "      <th>0</th>\n",
              "      <td>63</td>\n",
              "      <td>male</td>\n",
              "      <td>non-anginal pain</td>\n",
              "      <td>145</td>\n",
              "      <td>233</td>\n",
              "      <td>greater than 120mg/ml</td>\n",
              "      <td>normal</td>\n",
              "      <td>150</td>\n",
              "      <td>no</td>\n",
              "      <td>2.3</td>\n",
              "      <td>upsloping</td>\n",
              "      <td>0</td>\n",
              "      <td>normal</td>\n",
              "      <td>1</td>\n",
              "    </tr>\n",
              "    <tr>\n",
              "      <th>1</th>\n",
              "      <td>37</td>\n",
              "      <td>male</td>\n",
              "      <td>atypical angina</td>\n",
              "      <td>130</td>\n",
              "      <td>250</td>\n",
              "      <td>lower than 120mg/ml</td>\n",
              "      <td>ST-T wave abnormality</td>\n",
              "      <td>187</td>\n",
              "      <td>no</td>\n",
              "      <td>3.5</td>\n",
              "      <td>upsloping</td>\n",
              "      <td>0</td>\n",
              "      <td>fixed defect</td>\n",
              "      <td>1</td>\n",
              "    </tr>\n",
              "    <tr>\n",
              "      <th>2</th>\n",
              "      <td>41</td>\n",
              "      <td>female</td>\n",
              "      <td>typical angina</td>\n",
              "      <td>130</td>\n",
              "      <td>204</td>\n",
              "      <td>lower than 120mg/ml</td>\n",
              "      <td>normal</td>\n",
              "      <td>172</td>\n",
              "      <td>no</td>\n",
              "      <td>1.4</td>\n",
              "      <td>flat</td>\n",
              "      <td>0</td>\n",
              "      <td>fixed defect</td>\n",
              "      <td>1</td>\n",
              "    </tr>\n",
              "    <tr>\n",
              "      <th>3</th>\n",
              "      <td>56</td>\n",
              "      <td>male</td>\n",
              "      <td>typical angina</td>\n",
              "      <td>120</td>\n",
              "      <td>236</td>\n",
              "      <td>lower than 120mg/ml</td>\n",
              "      <td>ST-T wave abnormality</td>\n",
              "      <td>178</td>\n",
              "      <td>no</td>\n",
              "      <td>0.8</td>\n",
              "      <td>flat</td>\n",
              "      <td>0</td>\n",
              "      <td>fixed defect</td>\n",
              "      <td>1</td>\n",
              "    </tr>\n",
              "    <tr>\n",
              "      <th>4</th>\n",
              "      <td>57</td>\n",
              "      <td>female</td>\n",
              "      <td>typical angina</td>\n",
              "      <td>120</td>\n",
              "      <td>354</td>\n",
              "      <td>lower than 120mg/ml</td>\n",
              "      <td>ST-T wave abnormality</td>\n",
              "      <td>163</td>\n",
              "      <td>yes</td>\n",
              "      <td>0.6</td>\n",
              "      <td>flat</td>\n",
              "      <td>0</td>\n",
              "      <td>fixed defect</td>\n",
              "      <td>1</td>\n",
              "    </tr>\n",
              "  </tbody>\n",
              "</table>\n",
              "</div>"
            ],
            "text/plain": [
              "   age     sex   chest_pain_type  ...  num_major_vessels   thalassemia target\n",
              "0   63    male  non-anginal pain  ...                  0        normal      1\n",
              "1   37    male   atypical angina  ...                  0  fixed defect      1\n",
              "2   41  female    typical angina  ...                  0  fixed defect      1\n",
              "3   56    male    typical angina  ...                  0  fixed defect      1\n",
              "4   57  female    typical angina  ...                  0  fixed defect      1\n",
              "\n",
              "[5 rows x 14 columns]"
            ]
          },
          "metadata": {
            "tags": []
          },
          "execution_count": 3
        }
      ]
    },
    {
      "cell_type": "markdown",
      "metadata": {
        "id": "LY__HNe-w7sI",
        "colab_type": "text"
      },
      "source": [
        "#### Описание признаков"
      ]
    },
    {
      "cell_type": "markdown",
      "metadata": {
        "id": "BxVL3oXaw7sJ",
        "colab_type": "text"
      },
      "source": [
        "**age**: The person's age in years\n",
        "\n",
        "**sex**: The person's sex (1 = male, 0 = female)\n",
        "\n",
        "**cp**: The chest pain experienced (Value 1: typical angina, Value 2: atypical angina, Value 3: non-anginal pain, Value 4: asymptomatic)\n",
        "\n",
        "**trestbps**: The person's resting blood pressure (mm Hg on admission to the hospital)\n",
        "\n",
        "**chol**: The person's cholesterol measurement in mg/dl\n",
        "\n",
        "**fbs**: The person's fasting blood sugar (> 120 mg/dl, 1 = true; 0 = false)\n",
        "\n",
        "**restecg**: Resting electrocardiographic measurement (0 = normal, 1 = having ST-T wave abnormality, 2 = showing probable or definite left ventricular hypertrophy by Estes' criteria)\n",
        "\n",
        "**thalach**: The person's maximum heart rate achieved\n",
        "\n",
        "**exang**: Exercise induced angina (1 = yes; 0 = no)\n",
        "\n",
        "**oldpeak**: ST depression induced by exercise relative to rest ('ST' relates to positions on the ECG plot. See more here)\n",
        "\n",
        "**slope**: the slope of the peak exercise ST segment (Value 1: upsloping, Value 2: flat, Value 3: downsloping)\n",
        "\n",
        "**ca**: The number of major vessels (0-3)\n",
        "\n",
        "**thal**: A blood disorder called thalassemia (3 = normal; 6 = fixed defect; 7 = reversable defect)\n",
        "\n",
        "**target**: Heart disease (0 = no, 1 = yes)"
      ]
    },
    {
      "cell_type": "markdown",
      "metadata": {
        "id": "VB6YrFiGw7sK",
        "colab_type": "text"
      },
      "source": [
        "> 1. age \n",
        "> 2. sex \n",
        "> 3. chest pain type (4 values) \n",
        "> 4. resting blood pressure \n",
        "> 5. serum cholestoral in mg/dl \n",
        "> 6. fasting blood sugar > 120 mg/dl\n",
        "> 7. resting electrocardiographic results (values 0,1,2)\n",
        "> 8. maximum heart rate achieved \n",
        "> 9. exercise induced angina \n",
        "> 10. oldpeak = ST depression induced by exercise relative to rest \n",
        "> 11. the slope of the peak exercise ST segment \n",
        "> 12. number of major vessels (0-3) colored by flourosopy \n",
        "> 13. thal: 3 = normal; 6 = fixed defect; 7 = reversable defect"
      ]
    },
    {
      "cell_type": "markdown",
      "metadata": {
        "id": "aNF6NC2ow7sL",
        "colab_type": "text"
      },
      "source": [
        "___"
      ]
    },
    {
      "cell_type": "markdown",
      "metadata": {
        "id": "fFiMEXhcw7sL",
        "colab_type": "text"
      },
      "source": [
        "**Сколько мужчин в датасете? Сколько женщен? (sex) **"
      ]
    },
    {
      "cell_type": "code",
      "metadata": {
        "id": "9IKsGFXZw7sM",
        "colab_type": "code",
        "outputId": "f391bf77-2a42-478e-e44e-cab7ae2a5fdc",
        "colab": {
          "base_uri": "https://localhost:8080/",
          "height": 34
        }
      },
      "source": [
        "sex_values = df.sex.value_counts()\n",
        "print('В этом датасете {} мужчин и {} женщин' \\\n",
        "      .format(sex_values['male'], sex_values['female']))"
      ],
      "execution_count": 4,
      "outputs": [
        {
          "output_type": "stream",
          "text": [
            "В этом датасете 207 мужчин и 96 женщин\n"
          ],
          "name": "stdout"
        }
      ]
    },
    {
      "cell_type": "markdown",
      "metadata": {
        "id": "4IfeXx82w7sP",
        "colab_type": "text"
      },
      "source": [
        " **Какой процент мужчин в датасете? (решите в одну строчку, не используя предыдущий результат. Не забудте знак процента) **"
      ]
    },
    {
      "cell_type": "code",
      "metadata": {
        "id": "nGw70gLtw7sQ",
        "colab_type": "code",
        "outputId": "7c61a2e4-ebd6-4042-fbcd-27a3768fcda4",
        "colab": {
          "base_uri": "https://localhost:8080/",
          "height": 51
        }
      },
      "source": [
        "print(str(round(df['sex'].value_counts(normalize=True)['male']*100, 2)) + '%')\n",
        "print(str(round(df[df.sex == 'male'].sex.count() * 100 / df.sex.count(), 2)) + '%') #потому что могу"
      ],
      "execution_count": 5,
      "outputs": [
        {
          "output_type": "stream",
          "text": [
            "68.32%\n",
            "68.32%\n"
          ],
          "name": "stdout"
        }
      ]
    },
    {
      "cell_type": "markdown",
      "metadata": {
        "id": "cNBwqf2Yw7sW",
        "colab_type": "text"
      },
      "source": [
        "**Сколько мужчин имеют заболевание сердца? Сколько женщин имеют заболевание сердца? **"
      ]
    },
    {
      "cell_type": "code",
      "metadata": {
        "id": "hKWRPe37w7sW",
        "colab_type": "code",
        "outputId": "3b0cf698-e533-4ccf-f1dc-548b01ba5304",
        "colab": {
          "base_uri": "https://localhost:8080/",
          "height": 34
        }
      },
      "source": [
        "heart_disease_by_sex = df[df.target == 1].sex.value_counts()\n",
        "print('Заболевание сердца у {} мужчин и {} женщин' \\\n",
        "      .format(heart_disease_by_sex['male'], heart_disease_by_sex['female']))"
      ],
      "execution_count": 6,
      "outputs": [
        {
          "output_type": "stream",
          "text": [
            "Заболевание сердца у 93 мужчин и 72 женщин\n"
          ],
          "name": "stdout"
        }
      ]
    },
    {
      "cell_type": "markdown",
      "metadata": {
        "id": "kyXIkodBw7sc",
        "colab_type": "text"
      },
      "source": [
        "**Какую долю, от общего числа пациентов, занимают мужчины не имеющие болезнь сердца?**"
      ]
    },
    {
      "cell_type": "code",
      "metadata": {
        "id": "cQca7KTMw7sd",
        "colab_type": "code",
        "outputId": "af2f4539-f5c2-4806-af37-0d04f37903a4",
        "colab": {
          "base_uri": "https://localhost:8080/",
          "height": 34
        }
      },
      "source": [
        "mens_without_heart_disease = df[(df.target == 0) & (df.sex == 'male')].sex\n",
        "print(str(round(mens_without_heart_disease.count() * 100 / df.sex.count(), 2)) + '%')"
      ],
      "execution_count": 7,
      "outputs": [
        {
          "output_type": "stream",
          "text": [
            "37.62%\n"
          ],
          "name": "stdout"
        }
      ]
    },
    {
      "cell_type": "markdown",
      "metadata": {
        "id": "lcpeDbtHw7sh",
        "colab_type": "text"
      },
      "source": [
        "**Сколько лет самому молодому пациенту, страдающему болезнью сердца?**"
      ]
    },
    {
      "cell_type": "code",
      "metadata": {
        "id": "X4jhTknbw7sh",
        "colab_type": "code",
        "outputId": "5be3a7bb-3a6f-497d-a12d-693be474d487",
        "colab": {
          "base_uri": "https://localhost:8080/",
          "height": 34
        }
      },
      "source": [
        "df[df.target == 1].age.min()"
      ],
      "execution_count": 8,
      "outputs": [
        {
          "output_type": "execute_result",
          "data": {
            "text/plain": [
              "29"
            ]
          },
          "metadata": {
            "tags": []
          },
          "execution_count": 8
        }
      ]
    },
    {
      "cell_type": "markdown",
      "metadata": {
        "id": "UflSBEn8w7sk",
        "colab_type": "text"
      },
      "source": [
        "**Сколько лет самому возастному пациенту, у которого нет проблем с сердцем?**"
      ]
    },
    {
      "cell_type": "code",
      "metadata": {
        "id": "QPkBgYb8w7sk",
        "colab_type": "code",
        "outputId": "38dd5e09-7148-4f6f-e13d-1c46c944fd92",
        "colab": {
          "base_uri": "https://localhost:8080/",
          "height": 34
        }
      },
      "source": [
        "df[df.target == 0].age.max()"
      ],
      "execution_count": 9,
      "outputs": [
        {
          "output_type": "execute_result",
          "data": {
            "text/plain": [
              "77"
            ]
          },
          "metadata": {
            "tags": []
          },
          "execution_count": 9
        }
      ]
    },
    {
      "cell_type": "markdown",
      "metadata": {
        "id": "G2jsiU2gw7sq",
        "colab_type": "text"
      },
      "source": [
        "**Сколько лет самой молодой женщине, которая страдает болезнью сердца?**"
      ]
    },
    {
      "cell_type": "code",
      "metadata": {
        "id": "nQdz6Hghw7sq",
        "colab_type": "code",
        "outputId": "8418123f-e501-40b0-e149-893b1ed6d136",
        "colab": {
          "base_uri": "https://localhost:8080/",
          "height": 34
        }
      },
      "source": [
        "df[(df.target == 1) & (df.sex == 'female')].age.min()"
      ],
      "execution_count": 10,
      "outputs": [
        {
          "output_type": "execute_result",
          "data": {
            "text/plain": [
              "34"
            ]
          },
          "metadata": {
            "tags": []
          },
          "execution_count": 10
        }
      ]
    },
    {
      "cell_type": "markdown",
      "metadata": {
        "id": "nd8EOcUyw7st",
        "colab_type": "text"
      },
      "source": [
        "**Какой средний возраст женщин?**"
      ]
    },
    {
      "cell_type": "code",
      "metadata": {
        "id": "Uc4-dlT_w7su",
        "colab_type": "code",
        "outputId": "58b9a208-025e-426d-9ab1-cedb512c6244",
        "colab": {
          "base_uri": "https://localhost:8080/",
          "height": 34
        }
      },
      "source": [
        "df[df.sex == 'female'].age.mean()"
      ],
      "execution_count": 11,
      "outputs": [
        {
          "output_type": "execute_result",
          "data": {
            "text/plain": [
              "55.677083333333336"
            ]
          },
          "metadata": {
            "tags": []
          },
          "execution_count": 11
        }
      ]
    },
    {
      "cell_type": "markdown",
      "metadata": {
        "id": "d5haNiruw7sy",
        "colab_type": "text"
      },
      "source": [
        "**Каковы средние значения и среднеквадратичные отклонения возраста тех, кто страдают болезнью сердца?**"
      ]
    },
    {
      "cell_type": "code",
      "metadata": {
        "id": "rmXs2H2Iw7sz",
        "colab_type": "code",
        "outputId": "3343e0e0-d0e9-4e1e-f6e0-215e0aa3f1c1",
        "colab": {
          "base_uri": "https://localhost:8080/",
          "height": 34
        }
      },
      "source": [
        "print(df[df.target == 1].age.mean(), df[df.target == 1].age.std())"
      ],
      "execution_count": 12,
      "outputs": [
        {
          "output_type": "stream",
          "text": [
            "52.4969696969697 9.550650751946778\n"
          ],
          "name": "stdout"
        }
      ]
    },
    {
      "cell_type": "markdown",
      "metadata": {
        "id": "IvsOnlQBw7s1",
        "colab_type": "text"
      },
      "source": [
        "** Правда ли, что люди не болеющие болезнью сердца имеют уровня холестерина меньше среднего? (chol) **"
      ]
    },
    {
      "cell_type": "code",
      "metadata": {
        "id": "AcojLxrpw7s2",
        "colab_type": "code",
        "outputId": "89886d2a-4118-403e-81cd-914f22fc651b",
        "colab": {
          "base_uri": "https://localhost:8080/",
          "height": 34
        }
      },
      "source": [
        "df[df.target == 0].cholesterol.mean() < df.cholesterol.mean()\n",
        "# mean_cholesterol = df.cholesterol.mean()\n",
        "# buf = df[df.target == 0].cholesterol.apply(lambda x: x < mean_cholesterol)\n",
        "# buf.value_counts()"
      ],
      "execution_count": 22,
      "outputs": [
        {
          "output_type": "execute_result",
          "data": {
            "text/plain": [
              "False"
            ]
          },
          "metadata": {
            "tags": []
          },
          "execution_count": 22
        }
      ]
    },
    {
      "cell_type": "markdown",
      "metadata": {
        "id": "sSdHpTwSw7s4",
        "colab_type": "text"
      },
      "source": [
        "**Выведите статистику rest_ecg для все числовых признаков, его максимально и среднее значение (используйте groupby(), решите в одну строчку)**"
      ]
    },
    {
      "cell_type": "code",
      "metadata": {
        "id": "KNgmak-xw7s5",
        "colab_type": "code",
        "outputId": "2844fbc8-c520-40ad-ba88-2621d5a4ba74",
        "colab": {
          "base_uri": "https://localhost:8080/",
          "height": 204
        }
      },
      "source": [
        "df.groupby('rest_ecg').agg(['max', 'mean'])"
      ],
      "execution_count": 14,
      "outputs": [
        {
          "output_type": "execute_result",
          "data": {
            "text/html": [
              "<div>\n",
              "<style scoped>\n",
              "    .dataframe tbody tr th:only-of-type {\n",
              "        vertical-align: middle;\n",
              "    }\n",
              "\n",
              "    .dataframe tbody tr th {\n",
              "        vertical-align: top;\n",
              "    }\n",
              "\n",
              "    .dataframe thead tr th {\n",
              "        text-align: left;\n",
              "    }\n",
              "\n",
              "    .dataframe thead tr:last-of-type th {\n",
              "        text-align: right;\n",
              "    }\n",
              "</style>\n",
              "<table border=\"1\" class=\"dataframe\">\n",
              "  <thead>\n",
              "    <tr>\n",
              "      <th></th>\n",
              "      <th colspan=\"2\" halign=\"left\">age</th>\n",
              "      <th colspan=\"2\" halign=\"left\">resting_blood_pressure</th>\n",
              "      <th colspan=\"2\" halign=\"left\">cholesterol</th>\n",
              "      <th colspan=\"2\" halign=\"left\">max_heart_rate_achieved</th>\n",
              "      <th colspan=\"2\" halign=\"left\">st_depression</th>\n",
              "      <th colspan=\"2\" halign=\"left\">num_major_vessels</th>\n",
              "      <th colspan=\"2\" halign=\"left\">target</th>\n",
              "    </tr>\n",
              "    <tr>\n",
              "      <th></th>\n",
              "      <th>max</th>\n",
              "      <th>mean</th>\n",
              "      <th>max</th>\n",
              "      <th>mean</th>\n",
              "      <th>max</th>\n",
              "      <th>mean</th>\n",
              "      <th>max</th>\n",
              "      <th>mean</th>\n",
              "      <th>max</th>\n",
              "      <th>mean</th>\n",
              "      <th>max</th>\n",
              "      <th>mean</th>\n",
              "      <th>max</th>\n",
              "      <th>mean</th>\n",
              "    </tr>\n",
              "    <tr>\n",
              "      <th>rest_ecg</th>\n",
              "      <th></th>\n",
              "      <th></th>\n",
              "      <th></th>\n",
              "      <th></th>\n",
              "      <th></th>\n",
              "      <th></th>\n",
              "      <th></th>\n",
              "      <th></th>\n",
              "      <th></th>\n",
              "      <th></th>\n",
              "      <th></th>\n",
              "      <th></th>\n",
              "      <th></th>\n",
              "      <th></th>\n",
              "    </tr>\n",
              "  </thead>\n",
              "  <tbody>\n",
              "    <tr>\n",
              "      <th>ST-T wave abnormality</th>\n",
              "      <td>71</td>\n",
              "      <td>52.914474</td>\n",
              "      <td>180</td>\n",
              "      <td>129.065789</td>\n",
              "      <td>354</td>\n",
              "      <td>237.269737</td>\n",
              "      <td>194</td>\n",
              "      <td>151.960526</td>\n",
              "      <td>5.6</td>\n",
              "      <td>0.879605</td>\n",
              "      <td>4</td>\n",
              "      <td>0.638158</td>\n",
              "      <td>1</td>\n",
              "      <td>0.631579</td>\n",
              "    </tr>\n",
              "    <tr>\n",
              "      <th>left ventricular hypertrophy</th>\n",
              "      <td>76</td>\n",
              "      <td>61.000000</td>\n",
              "      <td>180</td>\n",
              "      <td>140.500000</td>\n",
              "      <td>327</td>\n",
              "      <td>261.750000</td>\n",
              "      <td>140</td>\n",
              "      <td>125.750000</td>\n",
              "      <td>4.4</td>\n",
              "      <td>2.725000</td>\n",
              "      <td>3</td>\n",
              "      <td>1.000000</td>\n",
              "      <td>1</td>\n",
              "      <td>0.250000</td>\n",
              "    </tr>\n",
              "    <tr>\n",
              "      <th>normal</th>\n",
              "      <td>77</td>\n",
              "      <td>55.687075</td>\n",
              "      <td>200</td>\n",
              "      <td>134.027211</td>\n",
              "      <td>564</td>\n",
              "      <td>255.142857</td>\n",
              "      <td>202</td>\n",
              "      <td>147.904762</td>\n",
              "      <td>6.2</td>\n",
              "      <td>1.159184</td>\n",
              "      <td>4</td>\n",
              "      <td>0.816327</td>\n",
              "      <td>1</td>\n",
              "      <td>0.462585</td>\n",
              "    </tr>\n",
              "  </tbody>\n",
              "</table>\n",
              "</div>"
            ],
            "text/plain": [
              "                             age             ... target          \n",
              "                             max       mean  ...    max      mean\n",
              "rest_ecg                                     ...                 \n",
              "ST-T wave abnormality         71  52.914474  ...      1  0.631579\n",
              "left ventricular hypertrophy  76  61.000000  ...      1  0.250000\n",
              "normal                        77  55.687075  ...      1  0.462585\n",
              "\n",
              "[3 rows x 14 columns]"
            ]
          },
          "metadata": {
            "tags": []
          },
          "execution_count": 14
        }
      ]
    },
    {
      "cell_type": "markdown",
      "metadata": {
        "id": "tCWH49Zkw7s-",
        "colab_type": "text"
      },
      "source": [
        "**Посчитайте у кого уровень депрессии при физический нагрузке выше (в среднем), среди мужчин страдающих болезнью сердца или среди женщин не страдающих болезнью сердца (st_depression)**"
      ]
    },
    {
      "cell_type": "code",
      "metadata": {
        "id": "71Ondopnw7s_",
        "colab_type": "code",
        "outputId": "9c58fe70-bf05-4e53-a524-a8fb6f908488",
        "colab": {
          "base_uri": "https://localhost:8080/",
          "height": 51
        }
      },
      "source": [
        "mean_depress_sick_man = df[(df.target == 1) & (df.sex == 'male')].st_depression.mean()\n",
        "mean_depress_healthy_woman = df[(df.target == 0) & (df.sex == 'female')].st_depression.mean()\n",
        "print('У мужчин' if mean_depress_sick_man > mean_depress_healthy_woman else 'У женщин')\n",
        "print(mean_depress_sick_man, mean_depress_healthy_woman)"
      ],
      "execution_count": 15,
      "outputs": [
        {
          "output_type": "stream",
          "text": [
            "У женщин\n",
            "0.6053763440860216 1.8416666666666666\n"
          ],
          "name": "stdout"
        }
      ]
    },
    {
      "cell_type": "markdown",
      "metadata": {
        "id": "yPsnnzNxw7tC",
        "colab_type": "text"
      },
      "source": [
        "**Посчтитайте максимальный и минимальный уровень холестерина для каждого типа chest_pain_type, rest_ecg, thalassemia. Пишите код оптимально, можно использовать циклы**"
      ]
    },
    {
      "cell_type": "code",
      "metadata": {
        "id": "jmm6jPL6w7tD",
        "colab_type": "code",
        "outputId": "f9b10243-c489-4bca-dfa9-dfbf35a62871",
        "colab": {
          "base_uri": "https://localhost:8080/",
          "height": 170
        }
      },
      "source": [
        "explored_feature = ['chest_pain_type', 'rest_ecg', 'thalassemia']\n",
        "for feature in explored_feature:\n",
        "  for ftype in df[feature].unique():\n",
        "    print(\n",
        "        'Для \\033[92m{}\\033[0m из колонки \\033[95m{}\\033[0m минимальное значение'\n",
        "        ' холестирина составляет \\033[93m{}\\033[0m,'\n",
        "        ' a максимальное -\\033[93m {}\\033[0m'.format(\n",
        "            ftype,\n",
        "            feature,\n",
        "            df[df[feature] == ftype]['cholesterol'].min(),\n",
        "            df[df[feature] == ftype]['cholesterol'].max()\n",
        "        )\n",
        "    )"
      ],
      "execution_count": 16,
      "outputs": [
        {
          "output_type": "stream",
          "text": [
            "Для \u001b[92mnon-anginal pain\u001b[0m из колонки \u001b[95mchest_pain_type\u001b[0m минимальное значение холестирина составляет \u001b[93m182\u001b[0m, a максимальное -\u001b[93m 298\u001b[0m\n",
            "Для \u001b[92matypical angina\u001b[0m из колонки \u001b[95mchest_pain_type\u001b[0m минимальное значение холестирина составляет \u001b[93m126\u001b[0m, a максимальное -\u001b[93m 564\u001b[0m\n",
            "Для \u001b[92mtypical angina\u001b[0m из колонки \u001b[95mchest_pain_type\u001b[0m минимальное значение холестирина составляет \u001b[93m131\u001b[0m, a максимальное -\u001b[93m 409\u001b[0m\n",
            "Для \u001b[92mnormal\u001b[0m из колонки \u001b[95mrest_ecg\u001b[0m минимальное значение холестирина составляет \u001b[93m149\u001b[0m, a максимальное -\u001b[93m 564\u001b[0m\n",
            "Для \u001b[92mST-T wave abnormality\u001b[0m из колонки \u001b[95mrest_ecg\u001b[0m минимальное значение холестирина составляет \u001b[93m126\u001b[0m, a максимальное -\u001b[93m 354\u001b[0m\n",
            "Для \u001b[92mleft ventricular hypertrophy\u001b[0m из колонки \u001b[95mrest_ecg\u001b[0m минимальное значение холестирина составляет \u001b[93m197\u001b[0m, a максимальное -\u001b[93m 327\u001b[0m\n",
            "Для \u001b[92mnormal\u001b[0m из колонки \u001b[95mthalassemia\u001b[0m минимальное значение холестирина составляет \u001b[93m169\u001b[0m, a максимальное -\u001b[93m 318\u001b[0m\n",
            "Для \u001b[92mfixed defect\u001b[0m из колонки \u001b[95mthalassemia\u001b[0m минимальное значение холестирина составляет \u001b[93m141\u001b[0m, a максимальное -\u001b[93m 417\u001b[0m\n",
            "Для \u001b[92mreversable defect\u001b[0m из колонки \u001b[95mthalassemia\u001b[0m минимальное значение холестирина составляет \u001b[93m126\u001b[0m, a максимальное -\u001b[93m 564\u001b[0m\n"
          ],
          "name": "stdout"
        }
      ]
    },
    {
      "cell_type": "markdown",
      "metadata": {
        "id": "4SULYqLQw7tG",
        "colab_type": "text"
      },
      "source": [
        "**Сколько значений может принимать каждый из категориальных признаков?**"
      ]
    },
    {
      "cell_type": "code",
      "metadata": {
        "id": "LnvQUj4uw7tH",
        "colab_type": "code",
        "outputId": "1f618c9a-fe19-4599-af81-d3aa18657065",
        "colab": {
          "base_uri": "https://localhost:8080/",
          "height": 136
        }
      },
      "source": [
        "[feature + ' принимает ' + str(len(df[feature].unique())) + ' значения ' \\\n",
        " for feature in df.columns if df[feature].dtype == object]"
      ],
      "execution_count": 17,
      "outputs": [
        {
          "output_type": "execute_result",
          "data": {
            "text/plain": [
              "['sex принимает 2 значения ',\n",
              " 'chest_pain_type принимает 3 значения ',\n",
              " 'fasting_blood_sugar принимает 2 значения ',\n",
              " 'rest_ecg принимает 3 значения ',\n",
              " 'exercise_induced_angina принимает 2 значения ',\n",
              " 'st_slope принимает 2 значения ',\n",
              " 'thalassemia принимает 3 значения ']"
            ]
          },
          "metadata": {
            "tags": []
          },
          "execution_count": 17
        }
      ]
    },
    {
      "cell_type": "markdown",
      "metadata": {
        "id": "4BXuVMX7w7tK",
        "colab_type": "text"
      },
      "source": [
        "**У какого категориального признака наблюдается самый сильный дизбаланс классов?**"
      ]
    },
    {
      "cell_type": "code",
      "metadata": {
        "id": "S5wp8F0Zw7tK",
        "colab_type": "code",
        "outputId": "abb921af-da1a-4e68-ec79-6502dee05a4c",
        "colab": {
          "base_uri": "https://localhost:8080/",
          "height": 34
        }
      },
      "source": [
        "feature_disbalans = { feature: df[feature].value_counts().max()  - df[feature].value_counts().min()\\\n",
        " for feature in df.columns if df[feature].dtype == object}\n",
        "\n",
        "max_disb = 0;\n",
        "feature_with_max_disbal = ''\n",
        "for key, value in feature_disbalans.items():\n",
        "  if value > max_disb:\n",
        "    max_disb = value\n",
        "    feature_with_max_disbal = key\n",
        "    \n",
        "print(feature_with_max_disbal)\n",
        "\n",
        "# Так, я конечно решил повыебываться, но тут лучше объясню:\n",
        "# Для всех категориальных признаков ( в этом дф это те что с типом объект, пол в индикатор не переведен)\n",
        "# вычисляю количества для каждого из уникальных значений например для\n",
        "# 'sex' это класс male  содержащий 207 записей и класс female ( 96 )\n",
        "# нахожу класс, с максимальным количеством таких записей и минимальным.\n",
        "# разницу между ними считаю дисбалансом и записываю словарь, где ключ- \n",
        "# это фича, а значение - дисбаланс между классами\n"
      ],
      "execution_count": 18,
      "outputs": [
        {
          "output_type": "stream",
          "text": [
            "fasting_blood_sugar\n"
          ],
          "name": "stdout"
        }
      ]
    },
    {
      "cell_type": "code",
      "metadata": {
        "id": "zhH7l_GIWS4D",
        "colab_type": "code",
        "outputId": "52bff8e3-f864-4336-a504-dbc7178f3306",
        "colab": {
          "base_uri": "https://localhost:8080/",
          "height": 34
        }
      },
      "source": [
        "def disbalance(feature):\n",
        "     return max(df[feature].value_counts(normalize=True)) - \\\n",
        "            min(df[feature].value_counts(normalize=True))\n",
        "  \n",
        "\n",
        "cat_features = [feature for feature in df.columns if df[feature].dtype == object]\n",
        "disbalance_df = pd.DataFrame(\n",
        "    index=cat_features,\n",
        "    data = {'disbalance': [disbalance(feature) for feature in cat_features]}\n",
        ")\n",
        "disbalance_df.sort_values(by='disbalance', ascending=False).index[0]"
      ],
      "execution_count": 19,
      "outputs": [
        {
          "output_type": "execute_result",
          "data": {
            "text/plain": [
              "'fasting_blood_sugar'"
            ]
          },
          "metadata": {
            "tags": []
          },
          "execution_count": 19
        }
      ]
    },
    {
      "cell_type": "markdown",
      "metadata": {
        "id": "x-dSeyL5w7tP",
        "colab_type": "text"
      },
      "source": [
        "---"
      ]
    },
    {
      "cell_type": "markdown",
      "metadata": {
        "id": "aDj1F3YIw7tQ",
        "colab_type": "text"
      },
      "source": [
        "@Booster\n",
        "Мамкин Data Scientist\n",
        "\n",
        "tg @mommyscience"
      ]
    }
  ]
}